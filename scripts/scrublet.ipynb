{
 "cells": [
  {
   "cell_type": "code",
   "execution_count": 1,
   "id": "02bbc969-ef5d-4338-8034-779c4fade01d",
   "metadata": {},
   "outputs": [],
   "source": [
    "import os \n",
    "import warnings\n",
    "\n",
    "import scanpy as sc\n",
    "import anndata as ad\n",
    "import seaborn as sns\n",
    "import matplotlib as plt\n",
    "\n",
    "sc.settings.verbosity = 0\n",
    "warnings.filterwarnings(\"ignore\", category=UserWarning)"
   ]
  },
  {
   "cell_type": "code",
   "execution_count": 2,
   "id": "d1910ec8-4262-442c-81d2-202e65242297",
   "metadata": {},
   "outputs": [],
   "source": [
    "os.chdir('YOUR PROJECT PATH')"
   ]
  },
  {
   "cell_type": "code",
   "execution_count": 3,
   "id": "11bc444e-6c91-484b-bafa-8fc5465e205d",
   "metadata": {},
   "outputs": [],
   "source": [
    "filenames = os.listdir('./data/')"
   ]
  },
  {
   "cell_type": "code",
   "execution_count": 4,
   "id": "1ee4e0e8-4586-4fb4-b6ec-ea5cd982b513",
   "metadata": {},
   "outputs": [],
   "source": [
    "# Read all files\n",
    "adata_list = []\n",
    "\n",
    "for file in filenames:\n",
    "    \n",
    "    gsm = file.split('_')[0]\n",
    "    \n",
    "    adata = sc.read_10x_h5(f'./data/{file}')\n",
    "    \n",
    "    sc.pp.filter_cells(adata, min_genes=200)\n",
    "    \n",
    "    sc.pp.filter_genes(adata, min_cells=3)\n",
    "    \n",
    "    adata.obs['sample'] = gsm\n",
    "    \n",
    "    adata.obs_names = [f\"{gsm}_{cell}\" for cell in adata.obs_names]\n",
    "    \n",
    "    adata.var_names_make_unique()\n",
    "    \n",
    "    adata_list.append(adata)"
   ]
  },
  {
   "cell_type": "code",
   "execution_count": 5,
   "id": "1f0f04fa-1005-4ee2-ad78-92282710c683",
   "metadata": {},
   "outputs": [],
   "source": [
    "# Arrange datasets into one object\n",
    "adata = sc.concat(adata_list, axis = 0, merge=\"same\", join = 'outer')"
   ]
  },
  {
   "cell_type": "markdown",
   "id": "a9774a64-d5b2-4bdb-b6d8-88843c9c1086",
   "metadata": {},
   "source": [
    "# Filtering"
   ]
  },
  {
   "cell_type": "code",
   "execution_count": 6,
   "id": "0f30ec4a-998f-403b-bd2a-2ae1e02c3d16",
   "metadata": {},
   "outputs": [],
   "source": [
    "# Calculate percentage of mitochondrial genes\n",
    "adata.var[\"mt\"] = adata.var_names.str.startswith(\"MT-\")\n",
    "\n",
    "sc.pp.calculate_qc_metrics(adata, qc_vars=[\"mt\"], inplace=True, percent_top=None)"
   ]
  },
  {
   "cell_type": "code",
   "execution_count": 7,
   "id": "e7499046-fb47-46d8-bd5a-fbf416cfe3bf",
   "metadata": {},
   "outputs": [
    {
     "name": "stdout",
     "output_type": "stream",
     "text": [
      "adata: matrix size before filtering (cells*genes): (158027, 26181)\n",
      "adata: matrix size after filtering (cells*genes): (146139, 26181)\n"
     ]
    }
   ],
   "source": [
    "# I just used the same thresholds as in Seurat\n",
    "print(\"adata: matrix size before filtering (cells*genes):\", adata.shape)\n",
    "adata = adata[adata.obs.n_genes_by_counts < 7000, :]\n",
    "adata = adata[adata.obs.pct_counts_mt < 25, :]\n",
    "adata = adata[adata.obs.total_counts < 70000, :]\n",
    "print(\"adata: matrix size after filtering (cells*genes):\", adata.shape)"
   ]
  },
  {
   "cell_type": "markdown",
   "id": "1dfdc4fa-db9e-4136-9f23-16005589c42d",
   "metadata": {},
   "source": [
    "# Scrublet"
   ]
  },
  {
   "cell_type": "code",
   "execution_count": 8,
   "id": "5cff0d82-a15c-464b-8d2b-c6e1177db82c",
   "metadata": {},
   "outputs": [],
   "source": [
    "# Calculate doublet scores separately for each batch\n",
    "sc.pp.scrublet(adata, batch_key = 'sample')"
   ]
  },
  {
   "cell_type": "code",
   "execution_count": 9,
   "id": "5c36d4fe-7620-4157-a56c-9334c77958cb",
   "metadata": {},
   "outputs": [],
   "source": [
    "adata.write('./adata/adata_filtered_scrublet.h5ad')"
   ]
  },
  {
   "cell_type": "code",
   "execution_count": 10,
   "id": "c1d7b9f8-1fdc-4afd-aa47-951b53a78b36",
   "metadata": {},
   "outputs": [],
   "source": [
    "adata.obs.to_csv('./adata/metadata.csv')"
   ]
  },
  {
   "cell_type": "code",
   "execution_count": 11,
   "id": "85321b9c-53a1-4697-98e9-ed9dd859bf1f",
   "metadata": {},
   "outputs": [],
   "source": [
    "adata = sc.read('./adata/adata_filtered_scrublet.h5ad')"
   ]
  },
  {
   "cell_type": "code",
   "execution_count": 12,
   "id": "44427164-7c9c-4c50-9120-68cbc968f1d9",
   "metadata": {},
   "outputs": [
    {
     "data": {
      "image/png": "[encoded data removed]",
      "text/plain": [
       "<Figure size 640x480 with 1 Axes>"
      ]
     },
     "metadata": {},
     "output_type": "display_data"
    }
   ],
   "source": [
    "# Plot scrublet score distribution\n",
    "ax = sns.kdeplot(adata.obs.doublet_score)\n",
    "plt.pyplot.savefig('./figures/doublet_score_distribution.png', dpi = 300)"
   ]
  },
  {
   "cell_type": "code",
   "execution_count": null,
   "id": "050fe7f3-adc7-4622-945b-2d4d0cf3a3b5",
   "metadata": {},
   "outputs": [],
   "source": []
  }
 ],
 "metadata": {
  "kernelspec": {
   "display_name": "scanpy_sc",
   "language": "python",
   "name": "scanpy_sc"
  },
  "language_info": {
   "codemirror_mode": {
    "name": "ipython",
    "version": 3
   },
   "file_extension": ".py",
   "mimetype": "text/x-python",
   "name": "python",
   "nbconvert_exporter": "python",
   "pygments_lexer": "ipython3",
   "version": "3.12.10"
  }
 },
 "nbformat": 4,
 "nbformat_minor": 5
}
